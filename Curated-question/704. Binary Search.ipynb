{
 "cells": [
  {
   "cell_type": "markdown",
   "metadata": {},
   "source": [
    "### question:\n",
    "Given an array of integers nums which is sorted in ascending order, and an integer target, \n",
    "write a function to search target in nums. If target exists, then return its index. Otherwise, return -1.\n",
    "You must write an algorithm with O(log n) runtime complexity.\n",
    "\n",
    "解釋：給定一個升冪的整數陣列nums與一個整數target，寫一個在nums裡搜尋target的函式，並返回target的索引，若target不存在，反回-1，寫出的函式需要符合O(log n)時間複雜度。\n",
    " \n",
    "Example 1:\n",
    "Input: nums = [-1,0,3,5,9,12], target = 9\n",
    "Output: 4\n",
    "Explanation: 9 exists in nums and its index is 4\n",
    "Example 2:\n",
    "Input: nums = [-1,0,3,5,9,12], target = 2\n",
    "Output: -1\n",
    "Explanation: 2 does not exist in nums so return -1\n",
    "\n",
    "解題：\n",
    "* which is sorted in ascending order ＝ 已經排序好，可以直接使用二分查詢\n",
    "* 會有三個需要宣告的數值：最左邊的索引left, 最右邊的索引right, 中間值mid\n",
    "* 比對target會有三種結果：\n"
   ]
  },
  {
   "cell_type": "code",
   "execution_count": 2,
   "metadata": {},
   "outputs": [
    {
     "ename": "SyntaxError",
     "evalue": "cannot assign to operator (2178361976.py, line 17)",
     "output_type": "error",
     "traceback": [
      "\u001b[0;36m  Cell \u001b[0;32mIn[2], line 17\u001b[0;36m\u001b[0m\n\u001b[0;31m    nums = [-1,0,3,5,9,12], target = 2\u001b[0m\n\u001b[0m            ^\u001b[0m\n\u001b[0;31mSyntaxError\u001b[0m\u001b[0;31m:\u001b[0m cannot assign to operator\n"
     ]
    }
   ],
   "source": [
    "class Solution:\n",
    "    def search(self, nums: List[int], target: int) -> int:\n",
    "        left = 0\n",
    "        right = len(nums) - 1\n",
    "        \n",
    "        while left <= right: # 繼續while回圈的重要關鍵\n",
    "            mid = (left + right) // 2  # 找中間點（每一次回圈都重新找一個中間值）\n",
    "            \n",
    "            if nums[mid] == target:    # 情境一：找到了\n",
    "                return mid\n",
    "            elif nums[mid] < target:   # 情境二：目標在右邊\n",
    "                left = mid + 1\n",
    "            else:                      # 情境三：目標在左邊\n",
    "                right = mid - 1\n",
    "                \n",
    "        return -1  # 找不到\n"
   ]
  },
  {
   "cell_type": "code",
   "execution_count": 4,
   "metadata": {},
   "outputs": [
    {
     "name": "stdout",
     "output_type": "stream",
     "text": [
      "4\n"
     ]
    }
   ],
   "source": [
    "# 第一個 cell\n",
    "from typing import List\n",
    "\n",
    "class Solution:\n",
    "    def search(self, nums: List[int], target: int) -> int:\n",
    "        left = 0 # 最左邊的起始索引為0\n",
    "        right = len(nums)-1 # 最右邊索引為list總長度-1(start from 0)\n",
    "        \n",
    "        \n",
    "        while left <= right: \n",
    "            mid = (left+left)//2 # 中間值為最左＆最右相加除2的商(//為除法的商，%為餘數)\n",
    "            if nums[mid] == target:\n",
    "                return mid\n",
    "            elif nums[mid] > target:\n",
    "                right = mid - 1\n",
    "            else:\n",
    "                left = mid + 1\n",
    "        return -1 \n",
    "\n",
    "\n",
    "# 第二個 cell  \n",
    "solution = Solution()\n",
    "nums = [-1, 0, 3, 5, 9, 12]\n",
    "target = 9\n",
    "result = solution.search(nums, target)\n",
    "print(result)"
   ]
  },
  {
   "cell_type": "code",
   "execution_count": null,
   "metadata": {},
   "outputs": [],
   "source": []
  }
 ],
 "metadata": {
  "kernelspec": {
   "display_name": "Python 3.9.6 64-bit",
   "language": "python",
   "name": "python3"
  },
  "language_info": {
   "codemirror_mode": {
    "name": "ipython",
    "version": 3
   },
   "file_extension": ".py",
   "mimetype": "text/x-python",
   "name": "python",
   "nbconvert_exporter": "python",
   "pygments_lexer": "ipython3",
   "version": "3.9.6"
  },
  "orig_nbformat": 4,
  "vscode": {
   "interpreter": {
    "hash": "31f2aee4e71d21fbe5cf8b01ff0e069b9275f58929596ceb00d14d90e3e16cd6"
   }
  }
 },
 "nbformat": 4,
 "nbformat_minor": 2
}
