{
 "cells": [
  {
   "cell_type": "markdown",
   "metadata": {},
   "source": [
    "### question:\n",
    "Given an array of integers nums which is sorted in ascending order, and an integer target, \n",
    "write a function to search target in nums. If target exists, then return its index. Otherwise, return -1.\n",
    "You must write an algorithm with O(log n) runtime complexity.\n",
    "\n",
    "解釋：給定一個升冪的整數陣列nums與一個整數target，寫一個在nums裡搜尋target的函式，並返回target的索引，若target不存在，反回-1，寫出的函式需要符合O(log n)時間複雜度。\n",
    " \n",
    "Example 1:\n",
    "Input: nums = [-1,0,3,5,9,12], target = 9\n",
    "Output: 4\n",
    "Explanation: 9 exists in nums and its index is 4\n",
    "Example 2:\n",
    "Input: nums = [-1,0,3,5,9,12], target = 2\n",
    "Output: -1\n",
    "Explanation: 2 does not exist in nums so return -1\n",
    "\n",
    "解題：\n",
    "* which is sorted in ascending order ＝ 已經排序好，可以直接使用二分查詢\n",
    "* 會有三個需要宣告的數值，一個結果：最左邊的索引 left , 最右邊的索引 right, 中間值索引 mid, 以及我們要找的結果 target\n",
    "* 搜尋 target，會有四種情境，可利用 while loop 搜尋：\n",
    "    * 情境一：target 剛好等於中間值 mid，結束查找，結束迴圈，返回 mid（index）\n",
    "    * 情境二：target ＜ mid，重新定義 right index，再一次迭代，直到遇到情境一 or 情境四\n",
    "    * 情境三：target ＞ mid，重新定義 left index，再一次迭代，直到遇到情境一 or 情境四\n",
    "    * 情境四：target 不在 nums 裡面，返回 -1，結束迴圈"
   ]
  },
  {
   "cell_type": "code",
   "execution_count": null,
   "metadata": {},
   "outputs": [],
   "source": [
    "# answer\n",
    "class Solution:\n",
    "    def search(self, nums: List[int], target: int) -> int:\n",
    "        left = 0\n",
    "        right = len(nums) - 1\n",
    "        while left <= right: # 繼續while回圈的重要關鍵\n",
    "\n",
    "            mid = (left + right) // 2  # 找中間點（每一次回圈都重新找一個中間值）\n",
    "            \n",
    "            if nums[mid] == target:    # 情境一：找到了\n",
    "                return mid\n",
    "            elif nums[mid] < target:   # 情境二：目標在右邊\n",
    "                left = mid + 1\n",
    "            else:                      # 情境三：目標在左邊\n",
    "                right = mid - 1\n",
    "                \n",
    "        return -1  # 情境四：找不到\n"
   ]
  },
  {
   "cell_type": "code",
   "execution_count": 6,
   "metadata": {},
   "outputs": [
    {
     "name": "stdout",
     "output_type": "stream",
     "text": [
      "4\n"
     ]
    }
   ],
   "source": [
    "# 實際執行\n",
    "\n",
    "from typing import List # 需加上註解套件，或是刪除註解\n",
    "class Solution:\n",
    "    def search(self, nums: List[int], target: int) -> int:\n",
    "        left = 0 \n",
    "        right = len(nums) - 1 \n",
    "        \n",
    "        while left <= right: \n",
    "            mid = (left+right) // 2 \n",
    "            if nums[mid] == target:\n",
    "                return mid\n",
    "            elif nums[mid] > target:\n",
    "                right = mid - 1\n",
    "            else:\n",
    "                left = mid + 1\n",
    "        return -1 \n",
    "\n",
    "# 使用函式\n",
    "solution = Solution()\n",
    "nums = [-1, 0, 3, 5, 9, 12]\n",
    "target = 9\n",
    "result = solution.search(nums, target)\n",
    "print(result)"
   ]
  }
 ],
 "metadata": {
  "kernelspec": {
   "display_name": "Python 3.9.6 64-bit",
   "language": "python",
   "name": "python3"
  },
  "language_info": {
   "codemirror_mode": {
    "name": "ipython",
    "version": 3
   },
   "file_extension": ".py",
   "mimetype": "text/x-python",
   "name": "python",
   "nbconvert_exporter": "python",
   "pygments_lexer": "ipython3",
   "version": "3.9.6"
  },
  "orig_nbformat": 4,
  "vscode": {
   "interpreter": {
    "hash": "31f2aee4e71d21fbe5cf8b01ff0e069b9275f58929596ceb00d14d90e3e16cd6"
   }
  }
 },
 "nbformat": 4,
 "nbformat_minor": 2
}
