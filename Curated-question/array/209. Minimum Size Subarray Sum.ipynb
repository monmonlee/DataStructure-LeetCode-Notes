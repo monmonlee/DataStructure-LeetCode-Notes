{
 "cells": [
  {
   "cell_type": "markdown",
   "metadata": {},
   "source": [
    "**209. Minimum Size Subarray Sum**\n",
    "Given an array of positive integers `nums` and a positive integer `target`, return the `minimal length of a subarray` whose sum is greater than or equal to target. If there is no such subarray, return `0` instead.\n",
    " \n",
    "**Example 1:**\n",
    "\n",
    "```\n",
    "Input: target = 7, nums = [2,3,1,2,4,3]\n",
    "Output: 2\n",
    "Explanation: The subarray [4,3] has the minimal length under the problem constraint.\n",
    "\n",
    "```\n",
    "\n",
    "**Example 2:**\n",
    "\n",
    "```\n",
    "Input: target = 4, nums = [1,4,4]\n",
    "Output: 1\n",
    "```\n",
    "\n",
    "**解題思路**\n",
    "* 題目給定：只能是subarray（連續子陣列）：原陣列連續的一段\n",
    "    * 策略一：暴力解（時複高）\n",
    "    * 最佳策略：滑動窗口\n"
   ]
  },
  {
   "cell_type": "code",
   "execution_count": 6,
   "metadata": {},
   "outputs": [
    {
     "name": "stdout",
     "output_type": "stream",
     "text": [
      "10\n"
     ]
    }
   ],
   "source": [
    "def minSubArrayLen(target, nums):\n",
    "    \"\"\"\n",
    "    滑動窗口解法 - 找最小長度的連續子陣列\n",
    "    時間複雜度: O(n)\n",
    "    空間複雜度: O(1)\n",
    "    \"\"\"\n",
    "    left = 0  # 左指針\n",
    "    current_sum = 0  # 當前窗口的總和\n",
    "    min_length = float('inf')  # 記錄最小長度，初始設為無窮大\n",
    "    \n",
    "    # 右指針遍歷整個陣列\n",
    "    for right in range(len(nums)):\n",
    "        # 擴大窗口：加入右邊的數字\n",
    "        current_sum += nums[right]\n",
    "        \n",
    "        # 當總和 >= target 時，嘗試縮小窗口\n",
    "        while current_sum >= target:\n",
    "            # 更新最小長度\n",
    "            min_length = min(min_length, right - left + 1)\n",
    "            \n",
    "            # 縮小窗口：移除左邊的數字\n",
    "            current_sum -= nums[left]\n",
    "            left += 1\n",
    "    \n",
    "    # 如果找到了符合條件的子陣列，返回最小長度；否則返回0\n",
    "    return min_length if min_length != float('inf') else 0\n"
   ]
  },
  {
   "cell_type": "markdown",
   "metadata": {},
   "source": [
    "**嘗試以[3,4,1,2], target = 7為例解釋**\n",
    "\n",
    "進入for回圈：\n",
    "* 1. i = 0, left(L) = 0(數值＝３), right(R) = 0(數值＝3), cur = 無窮大。\n",
    "    * 1-1 更新cur = 3，總和 < target，不會進入while回圈，結束。\n",
    "* 2. i = 1, L = 0(數值＝３), R = 1(數值＝4), cur = 3。\n",
    "    * 2-1 更新cur = 3+4 = 7，總和 = target，進入while回圈。\n",
    "    * 2-2 更新最少長度：length = min(無限大, 1-0+1), length = 2\n",
    "    * 2-3 縮小窗口（試試其他subarray的情況，因此要移動left）：cur ＝ ７－３ ＝４\n",
    "    * 2-4 更新left: left = 1 (數值 = 4)\n",
    "* 3. i = 2, L = 1(數值＝4), R = 2(數值＝1), cur = 4。\n",
    "    * 3-1 更新cur = 4+1 = 5，總和 < target，不會進入while回圈，結束。\n",
    "* 4. i = 3, L = 1(數值＝4), R = 3(數值＝2), cur = 5。\n",
    "    * 4-1 更新cur = 5+2 = 7，符合while\n",
    "    * 4-2 更新最少長度：min(2, 3-1+1) = 最少長度保持２\n",
    "    * 4-3 縮小窗口： cur = 7-4 = 3\n",
    "    * 4-4 更新left: left = 2 (數值 = 1)\n",
    "回圈結束，因此return min_length if min_length != float('inf') else 0，min_length ＝ ２"
   ]
  },
  {
   "cell_type": "markdown",
   "metadata": {},
   "source": [
    "**名詞解釋**\n",
    "* subarray：原陣列中連續的一段 (思考滑動窗口)\n",
    "* Subsequence (子序列)：可以不連續，但是要保持相對順序 (思考動態規劃)\n",
    "* subset (子集合)：任意選取，順序無所謂 (思考回溯或貪心)"
   ]
  }
 ],
 "metadata": {
  "kernelspec": {
   "display_name": "Python 3.9.6 64-bit",
   "language": "python",
   "name": "python3"
  },
  "language_info": {
   "codemirror_mode": {
    "name": "ipython",
    "version": 3
   },
   "file_extension": ".py",
   "mimetype": "text/x-python",
   "name": "python",
   "nbconvert_exporter": "python",
   "pygments_lexer": "ipython3",
   "version": "3.9.6"
  },
  "orig_nbformat": 4,
  "vscode": {
   "interpreter": {
    "hash": "31f2aee4e71d21fbe5cf8b01ff0e069b9275f58929596ceb00d14d90e3e16cd6"
   }
  }
 },
 "nbformat": 4,
 "nbformat_minor": 2
}
