{
 "cells": [
  {
   "cell_type": "code",
   "execution_count": 14,
   "metadata": {},
   "outputs": [],
   "source": [
    "def minSubArrayLen_brute_force_v1(target, nums):\n",
    "    \"\"\"\n",
    "    三層迴圈暴力解法\n",
    "    時間複雜度: O(n³)\n",
    "    空間複雜度: O(1)\n",
    "    \"\"\"\n",
    "    n = len(nums)\n",
    "    min_length = float('inf')  # 初始化最小長度為無窮大\n",
    "    \n",
    "    # 第一層迴圈：所有可能的起始位置\n",
    "    for i in range(n):\n",
    "        \n",
    "        # 第二層迴圈：從位置 i 開始的所有可能結束位置\n",
    "        for j in range(i, n):  # j 從 i 開始，確保子陣列非空\n",
    "            \n",
    "            # 第三層迴圈：計算子陣列 nums[i:j+1] 的總和\n",
    "            current_sum = 0\n",
    "            for k in range(i, j + 1):\n",
    "                current_sum += nums[k]\n",
    "            \n",
    "            # 檢查當前子陣列是否滿足條件\n",
    "            if current_sum >= target:\n",
    "                # 計算當前子陣列的長度\n",
    "                current_length = j - i + 1\n",
    "                # 更新最小長度\n",
    "                min_length = min(min_length, current_length)\n",
    "    \n",
    "    # 如果找到滿足條件的子陣列，返回最小長度；否則返回 0\n",
    "    return min_length if min_length != float('inf') else 0\n"
   ]
  },
  {
   "cell_type": "markdown",
   "metadata": {},
   "source": [
    "#### 為什麼移動窗口o（n）會快於暴力解o(n**3)？\n",
    "* 暴力解原理：使用三層迴圈展示出所有的頭、尾、長度，逐一檢查，再決定最佳解。\n",
    "* 移動窗口：跳過不必要的檢查，例如：\n",
    "    * 當 [3, 4] (target = 7) 已經符合條件，接下來[3, 4, 1] or [3, 4, 1, 2] 數值都會符合條件且比[3, 4]還要長，因此沒必要檢查\n",
    "    * 因此設計成直接移動左指針\n",
    "    ```python  \n",
    "    while cureny_sum >= target:\n",
    "        min_length = min(min_length, right - left + 1)\n",
    "        current_sum -= nums[left]\n",
    "        left += 1\n",
    "        ```"
   ]
  }
 ],
 "metadata": {
  "kernelspec": {
   "display_name": "Python 3.9.6 64-bit",
   "language": "python",
   "name": "python3"
  },
  "language_info": {
   "codemirror_mode": {
    "name": "ipython",
    "version": 3
   },
   "file_extension": ".py",
   "mimetype": "text/x-python",
   "name": "python",
   "nbconvert_exporter": "python",
   "pygments_lexer": "ipython3",
   "version": "3.9.6"
  },
  "orig_nbformat": 4,
  "vscode": {
   "interpreter": {
    "hash": "31f2aee4e71d21fbe5cf8b01ff0e069b9275f58929596ceb00d14d90e3e16cd6"
   }
  }
 },
 "nbformat": 4,
 "nbformat_minor": 2
}
