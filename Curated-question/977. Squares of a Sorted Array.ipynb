{
 "cells": [
  {
   "cell_type": "markdown",
   "metadata": {},
   "source": [
    "**977. Squares of a Sorted Array**\n",
    "Given an integer array `nums` sorted in **non-decreasing** order, return *an array of ****the squares of each number**** sorted in non-decreasing order*.\n",
    " \n",
    "**Example 1:**\n",
    "\n",
    "```\n",
    "Input: nums = [-4,-1,0,3,10]\n",
    "Output: [0,1,9,16,100]\n",
    "Explanation: After squaring, the array becomes [16,1,0,9,100].\n",
    "After sorting, it becomes [0,1,9,16,100].\n",
    "\n",
    "```\n",
    "\n",
    "**Example 2:**\n",
    "\n",
    "```\n",
    "Input: nums = [-7,-3,2,3,11]\n",
    "Output: [4,9,9,49,121]\n",
    "```\n",
    "\n",
    "**解題思路**\n",
    "* 題目說明「sorted in **non-decreasing** order」，代表：\n",
    "    * array 由小到大的排序，因此當要升冪排序平方後的值，此array最可能出現最大值的位置會在「最左側」或「最右側」\n",
    "    * 最小值不確定在哪裡，但可以確定最大值一定在兩側，因此填入方式以最大值（最後一個數值）優先\n",
    "* 指標互換：額外創建一個和nums相同數量的array'，以填入正確順序的數值作為解答\n",
    "    * 備註：也可以不另外建立其他數組，nums 數值直接互換，但時間複雜度會提高成 o(n * logn)（＊見備註一）\n",
    "* 因此我們可以透過雙指標的方式，分別比較兩指針的大小，大的就填入array'中。\n",
    "* 思考可能情境與對應措施(以下為平方)：right > left , right == left, right < left "
   ]
  },
  {
   "cell_type": "code",
   "execution_count": null,
   "metadata": {},
   "outputs": [],
   "source": [
    "# correct answer\n",
    "class Solution:\n",
    "    def sortedSquares(self, nums: List[int]) -> List[int]:\n",
    "        result = [0] * len(nums)\n",
    "        right = len(nums) - 1\n",
    "        left = 0\n",
    "        for i in range(len(nums) - 1, -1, -1):\n",
    "            if nums[right] ** 2 >= nums[left] ** 2:\n",
    "                result[i] = nums[right] ** 2\n",
    "                right -= 1\n",
    "            else:\n",
    "                result[i] = nums[left] ** 2\n",
    "                left += 1\n",
    "        return result"
   ]
  },
  {
   "cell_type": "code",
   "execution_count": 23,
   "metadata": {},
   "outputs": [
    {
     "data": {
      "text/plain": [
       "[1, 4, 9, 25, 36]"
      ]
     },
     "execution_count": 23,
     "metadata": {},
     "output_type": "execute_result"
    }
   ],
   "source": [
    "# comment and demonstrate\n",
    "def sortedSquares(nums):\n",
    "    result = [0] * len(nums) # 建立一個初始array(和nums長度一樣)，用來放比較後的結果。\n",
    "\n",
    "    # 設置雙指針\n",
    "    left = 0  # 左指針指向左邊第一個數位置\n",
    "    right = len(nums) - 1 # 右邊指針指向array最後一個位置\n",
    "\n",
    "    # 從array的最後一個位置開始填充\n",
    "    for i in range(len(nums)-1, -1, -1): # 倒過來比較（因為最大值會在兩側）\n",
    "        if nums[right]**2 >= nums[left]**2: \n",
    "            result[i] = nums[right]**2\n",
    "            right -= 1\n",
    "        else:\n",
    "            result[i] = nums[left]**2\n",
    "            left += 1\n",
    "    return result # 返回已經填充好的結果\n",
    "            \n",
    "\"\"\"測試\"\"\"    \n",
    "nums = [-6, -1, 2, 3, 5]\n",
    "sortedSquares(nums)"
   ]
  },
  {
   "cell_type": "markdown",
   "metadata": {},
   "source": [
    "**備註一：原 array 交換 or 允許額外空間（建立初始化 result）**\n",
    "以下列舉 array 兩兩數值交換可以是「in-place（原地）」交換，也可以是像上題一樣建立別的array。\n",
    "* 題目未限制 \"in-place\" or \"solve it with O(1) extra space\" → 使用剛剛建立一個新result array\n",
    "    * time complexity: o(n)，雙指針一次掃瞄，不需兩兩內部交換\n",
    "    * space complexity: o(n)，額外數組\n",
    "    * pros: 速度最快（time 較低）\n",
    "* 題目限制 \"in-place\" or \"solve it with O(1) extra space\" → 使用 temp 指標 or 使用 .sort()\n",
    "    * time complexity: o(n * logn)，遍歷每一個數值（n)＊兩兩互換（n* logn)\n",
    "    * space complexity: o(1)，原array（in-place）\n",
    "    * pros: 節省記憶體（space較低）\n",
    "\n",
    "temp 指標示範：\n",
    "```python\n",
    "nums = [1, 2, 3, 4, 5]\n",
    "# 交換 nums[0] 和 nums[4]\n",
    "\n",
    "temp = nums[0]     # temp = 1\n",
    "nums[0] = nums[4]  # nums[0] = 5\n",
    "nums[4] = temp     # nums[4] = 1\n",
    "\n",
    "print(nums)  # [5, 2, 3, 4, 1]\n",
    "\n",
    "```\n",
    "sort 示範：\n",
    "```python\n",
    "nums = [1, 2, 6, 4, 5]\n",
    "# 交換 nums[0] 和 nums[4]\n",
    "nums.sort()\n",
    "print(nums)  # [1, 2, 4, 5, 6]\n",
    "```\n",
    "sort()的原理：多次比較和交換\n",
    "```python\n",
    "if nums[1] < nums[0]: nums[0], nums[1] = nums[1], nums[0]  \n",
    "if nums[2] < nums[1]: nums[1], nums[2] = nums[2], nums[1]  \n",
    "if nums[1] < nums[0]: nums[0], nums[1] = nums[1], nums[0] \n",
    "```"
   ]
  },
  {
   "cell_type": "markdown",
   "metadata": {},
   "source": [
    "**備註二：複習 range()**\n",
    "* range(start, stop, step)\n",
    "* stop為默認值參數，stop -1 為實際停止位置\n",
    "* step 為每次增減數量，-1為倒敘\n",
    "* e.g: range(len(nums) -1, -1, -1)，順序為從nums最大數（假設為nums = 5），依序 5,4,3,2,1,0"
   ]
  }
 ],
 "metadata": {
  "kernelspec": {
   "display_name": "Python 3.9.6 64-bit",
   "language": "python",
   "name": "python3"
  },
  "language_info": {
   "codemirror_mode": {
    "name": "ipython",
    "version": 3
   },
   "file_extension": ".py",
   "mimetype": "text/x-python",
   "name": "python",
   "nbconvert_exporter": "python",
   "pygments_lexer": "ipython3",
   "version": "3.9.6"
  },
  "orig_nbformat": 4,
  "vscode": {
   "interpreter": {
    "hash": "31f2aee4e71d21fbe5cf8b01ff0e069b9275f58929596ceb00d14d90e3e16cd6"
   }
  }
 },
 "nbformat": 4,
 "nbformat_minor": 2
}
