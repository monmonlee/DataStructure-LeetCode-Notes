{
 "cells": [
  {
   "cell_type": "markdown",
   "metadata": {},
   "source": [
    "### question:\n",
    "Given an integer array 'nums' and an integer 'val', remove all occurrences of val in nums in-place. The order of the elements may be changed. Then return the number of elements in nums which are not equal to val.\n",
    "\n",
    "Consider the number of elements in nums which are not equal to val be k, to get accepted, you need to do the following things:\n",
    "\n",
    "Change the array nums such that the first k elements of nums contain the elements which are not equal to val. The remaining elements of nums are not important as well as the size of nums.\n",
    "Return k.\n",
    "\n",
    "Example 1:\n",
    "\n",
    "Input: nums = [3,2,2,3], val = 3\n",
    "Output: 2, nums = [2,2,_,_]\n",
    "Explanation: Your function should return k = 2, with the first two elements of nums being 2.\n",
    "It does not matter what you leave beyond the returned k (hence they are underscores).\n",
    "Example 2:\n",
    "\n",
    "Input: nums = [0,1,2,2,3,0,4,2], val = 2\n",
    "Output: 5, nums = [0,1,4,0,3,_,_,_]\n",
    "Explanation: Your function should return k = 5, with the first five elements of nums containing 0, 0, 1, 3, and 4.\n",
    "Note that the five elements can be returned in any order.\n",
    "It does not matter what you leave beyond the returned k (hence they are underscores).\n",
    " \n"
   ]
  },
  {
   "cell_type": "markdown",
   "metadata": {},
   "source": [
    "##### 解題說明\n",
    "* 目標：給定 nums 整數 array，val 整數，移除所有目標值，回傳剩下多少個元素。\n",
    "* 處理策略：double pointer (slow & fast)"
   ]
  },
  {
   "cell_type": "code",
   "execution_count": null,
   "metadata": {},
   "outputs": [],
   "source": [
    "class Solution:\n",
    "    def removeElement(self, nums: List[int], val: int) -> int:\n",
    "        slow = 0\n",
    "        for fast in range(len(nums)):\n",
    "            if nums[fast] != val:\n",
    "                nums[slow]=nums[fast]\n",
    "                slow += 1\n",
    "        return slow\n",
    "\n",
    "'''\n",
    "迴圈流程說明：\n",
    "[0,1,3,4,3], val= 3\n",
    "round 1：fast=0, nums[fast]=0, slow=0, nums[slow]=0\n",
    "滿足if nums[fast] != val(0!=3)，所以nums[slow]=nums[fast]，因此nums[slow]=0（有被覆蓋，但和原本一樣）\n",
    "結果：第一個數確認非val，slow += 1，slow=1\n",
    "[0,1,3,4,3]\n",
    "\n",
    "round 2：fast=1, nums[fast]=1, slow=1, nums[slow]=1\n",
    "滿足if nums[fast] != val(1!=3)，所以nums[slow]=nums[fast]，因此nums[slow]=1（有被覆蓋，但和原本一樣）\n",
    "結果：第二個數確認非val，slow += 1，slow=2\n",
    "[0,1,3,4,3]\n",
    "\n",
    "round 3：fast=2, nums[fast]=3, slow=2, nums[slow]=3\n",
    "不符合if nums[fast] != val(3=3)，所以slow 不會 +1\n",
    "結果：第三個數查找完畢，目前slow仍為2\n",
    "[0,1,3,4,3]\n",
    "\n",
    "round 4：fast=3, nums[fast]=4, slow=2, nums[slow]=3\n",
    "滿足if nums[fast] != val(4!=3)，所以nums[slow]=nums[fast]，因此nums[slow]=4(原本為3，現在被覆蓋成4)\n",
    "結果：第四個數確認非val，slow += 1，slow=3\n",
    "[0,1,4,4,3]\n",
    "\n",
    "round 5：fast=4, nums[fast]=3, slow=3, nums[slow]=4\n",
    "不符合if nums[fast] != val(3=3)，所以slow 不會 +1\n",
    "結果：第五個數查找完畢，本回合slow未+1，目前slow為3\n",
    "\n",
    "[0,1,4,4,3]\n",
    "       ↑\n",
    "slow = 3\n",
    "         ↑\n",
    "    fast = 4\n",
    "結果，因爲我們只是要找出[0,1,3,4,3]裡面有幾個非3的數字，所以有三個，且是「前面三個數字」，也就是[[0,1,4,4,3]的[0,1,4]，後面4,3是用不到的，就不用管了。\n",
    "\n",
    "'''\n"
   ]
  }
 ],
 "metadata": {
  "kernelspec": {
   "display_name": "Python 3.9.6 64-bit",
   "language": "python",
   "name": "python3"
  },
  "language_info": {
   "codemirror_mode": {
    "name": "ipython",
    "version": 3
   },
   "file_extension": ".py",
   "mimetype": "text/x-python",
   "name": "python",
   "nbconvert_exporter": "python",
   "pygments_lexer": "ipython3",
   "version": "3.9.6"
  },
  "orig_nbformat": 4,
  "vscode": {
   "interpreter": {
    "hash": "31f2aee4e71d21fbe5cf8b01ff0e069b9275f58929596ceb00d14d90e3e16cd6"
   }
  }
 },
 "nbformat": 4,
 "nbformat_minor": 2
}
